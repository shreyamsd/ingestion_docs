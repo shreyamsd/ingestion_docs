{
  "cells": [
    {
      "cell_type": "code",
      "execution_count": 1,
      "metadata": {
        "id": "YD6urJjWGVDf"
      },
      "outputs": [],
      "source": [
        "%pip install -q -U \"google-genai>=1.0.0\""
      ]
    },
    {
      "cell_type": "code",
      "execution_count": 2,
      "metadata": {
        "id": "yBapI259C99C"
      },
      "outputs": [],
      "source": [
        "from google import genai"
      ]
    },
    {
      "cell_type": "code",
      "execution_count": 3,
      "metadata": {
        "id": "Zey3UiYGDDzU"
      },
      "outputs": [],
      "source": [
        "from google.colab import userdata\n",
        "GOOGLE_API_KEY = userdata.get('GOOGLE_API_KEY')\n",
        "client = genai.Client(api_key=GOOGLE_API_KEY)"
      ]
    },
    {
      "cell_type": "markdown",
      "metadata": {
        "id": "gGpQ8Eg0kNXW"
      },
      "source": [
        "## Embed content - Sample [Can Ignore]\n"
      ]
    },
    {
      "cell_type": "code",
      "execution_count": 12,
      "metadata": {
        "id": "J76TNa3QDwCc",
        "colab": {
          "base_uri": "https://localhost:8080/"
        },
        "outputId": "b91420be-f77d-4463-a806-7e64f8b3d856"
      },
      "outputs": [
        {
          "output_type": "stream",
          "name": "stdout",
          "text": [
            "[-0.034870375, 0.028674169, 0.029145597, -0.034108 ... TRIMMED]\n",
            "Latency: 0.391 seconds\n"
          ]
        }
      ],
      "source": [
        "import time\n",
        "\n",
        "text = [\"FAIWAD Tennis Skirts for Women 2025 Golf Athletic Activewear Summer Solid Color Skorts with Inner Workout Shorts\"]\n",
        "\n",
        "start_time = time.time()\n",
        "\n",
        "result = client.models.embed_content(model=\"text-embedding-004\", contents=text)\n",
        "[embedding] = result.embeddings\n",
        "\n",
        "end_time = time.time()\n",
        "latency = end_time - start_time\n",
        "\n",
        "print(str(embedding.values)[:100], '... TRIMMED]')\n",
        "print(f\"Latency: {latency:.3f} seconds\")\n"
      ]
    },
    {
      "cell_type": "code",
      "execution_count": 13,
      "metadata": {
        "id": "rU6XX33547Ll",
        "colab": {
          "base_uri": "https://localhost:8080/"
        },
        "outputId": "cdf31bc0-df03-4cec-9e75-39973baaf8f1"
      },
      "outputs": [
        {
          "output_type": "stream",
          "name": "stdout",
          "text": [
            "768\n"
          ]
        }
      ],
      "source": [
        "print(len(embedding.values))  # The embeddings have 768 dimensions"
      ]
    },
    {
      "cell_type": "markdown",
      "source": [
        "# **Dynamic Embed Content - Kriya Specific**\n",
        "\n",
        "\n",
        "Call the `embed_content` method with the `models/text-embedding-004` model to generate text embeddings."
      ],
      "metadata": {
        "id": "FLEaAxvTk03D"
      }
    },
    {
      "cell_type": "code",
      "source": [
        "import pandas as pd\n",
        "df = pd.read_csv('https://docs.google.com/spreadsheets/d/1gieRBGio2zVvENH9B6_4cymXV0BN2zO42CZJl1xblPQ/export?format=csv&gid=0')  # replace with your actual file path or upload to Colab\n",
        "\n",
        "\n",
        "row = df.iloc[0] # Extract the first row's content\n",
        "title = str(row['Title'])\n",
        "description = str(row['product_short_description'])\n",
        "\n",
        "# Combine title and description as input for embedding -- if needed\n",
        "# text_to_embed = f\"{title} {description}\"\n",
        "\n",
        "start_time = time.time()\n",
        "\n",
        "# Embed the content\n",
        "result = client.models.embed_content(\n",
        "    model=\"text-embedding-004\",\n",
        "    contents= [title, description] #[text_to_embed]\n",
        ")\n",
        "\n",
        "latency = time.time() - start_time\n",
        "\n",
        "print(title)\n",
        "print(description)\n",
        "for embedding in result.embeddings:\n",
        "    print(str(embedding)[:100], '... TRIMMED]')\n",
        "\n",
        "\n",
        "print(f\"Embedding latency: {latency:.3f} seconds\")\n"
      ],
      "metadata": {
        "colab": {
          "base_uri": "https://localhost:8080/"
        },
        "id": "-PO5DLxrk4mD",
        "outputId": "0120237e-3665-40f4-ecaf-5394e384d12f"
      },
      "execution_count": 21,
      "outputs": [
        {
          "output_type": "stream",
          "name": "stdout",
          "text": [
            "Love & Sports All Gender Short Sleeve Tshirt\n",
            "Love & Sports Unisex T-Shirt looks great on everyone. From your favorite HIIT class to a backyard barbecue, this vintage-inspired tee takes on any activity with a laid-back vibe and relaxed style you'll love. Soft, comfy and ready to roll, this all-gender tee fits your day...to a tee. Only at Walmart.\n",
            "values=[-0.053099003, 0.022446359, 0.03905554, -0.0034971975, 0.028356547, 0.022862403, -0.003626031 ... TRIMMED]\n",
            "values=[-0.039442442, 0.010635803, 0.05613698, -0.007997113, 0.024719, 0.020184526, 0.012426237, 0.0 ... TRIMMED]\n",
            "Embedding latency: 0.409 seconds\n"
          ]
        }
      ]
    },
    {
      "cell_type": "markdown",
      "metadata": {
        "id": "sSKcLGIpo8yc"
      },
      "source": [
        "## Specify `task_type` -- skip"
      ]
    },
    {
      "cell_type": "markdown",
      "metadata": {
        "id": "bz0zq1_shk98"
      },
      "source": [
        "For details on how to call `embed_content`, check out the [Embeddings API reference](https://ai.google.dev/api/embeddings#method:-models.embedcontent), including the section on [`task_type`](https://ai.google.dev/api/embeddings#tasktype)."
      ]
    },
    {
      "cell_type": "code",
      "execution_count": 8,
      "metadata": {
        "id": "LFjMapMV91es",
        "colab": {
          "base_uri": "https://localhost:8080/"
        },
        "outputId": "89af10bb-328f-48cd-944e-78472e5887d6"
      },
      "outputs": [
        {
          "output_type": "stream",
          "name": "stdout",
          "text": [
            "values=[0.013168517, -0.00871193, -0.046782672, 0. ... TRIMMED]\n",
            "values=[0.023399517, -0.008547142, -0.052534223, - ... TRIMMED]\n"
          ]
        }
      ],
      "source": [
        "result1 = client.models.embed_content(\n",
        "    model=\"text-embedding-004\",\n",
        "    contents=[\"Hello world\"])\n",
        "\n",
        "# result2 = client.models.embed_content(\n",
        "#     model=\"text-embedding-004\",\n",
        "#     contents=[\"Hello world\"],\n",
        "#     config={\"task_type\": \"retrieval_document\"})\n",
        "\n",
        "\n",
        "[embedding1] = result1.embeddings\n",
        "# [embedding2] = result2.embeddings\n",
        "\n",
        "print(str(embedding1)[:50], '... TRIMMED]')\n",
        "# print(str(embedding2)[:50], '... TRIMMED]')"
      ]
    }
  ],
  "metadata": {
    "colab": {
      "name": "Embeddings.ipynb",
      "provenance": []
    },
    "kernelspec": {
      "display_name": "Python 3",
      "name": "python3"
    }
  },
  "nbformat": 4,
  "nbformat_minor": 0
}